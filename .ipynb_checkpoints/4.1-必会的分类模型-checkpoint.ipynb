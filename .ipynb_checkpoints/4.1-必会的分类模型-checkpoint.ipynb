{
 "cells": [
  {
   "cell_type": "markdown",
   "metadata": {},
   "source": [
    "## 4.1.1 逻辑回归\n",
    "逻辑回归(Logistic Regression)，虽然名字里有 “回归” 二字，但实际上是解决分类问题的一类线性模型，主要用于二分类问题。\n",
    "\n",
    "由于分类问题中标签的取值是离散的 0 和 1，线性回归的目标函数取值并不在 (0, 1) 之间，需要用 sigmoid 函数归一化。sigmoid 函数如下：\n",
    "\n",
    "$$ h_\\theta(X)=g(z) = \\frac {1}{1+exp^{-z}}$$\n",
    "$$z = \\theta^T X = \\theta_0 + \\sum_{j=1}^n\\theta_jx_j$$\n",
    "\n",
    "根据极大似然估计 (MLE)，得到逻辑回归的损失函数：\n",
    "\n",
    "$$\n",
    "\\begin{aligned}\n",
    "\\ell(\\theta) &=\\log L(\\theta) \\\\\n",
    "&=\\sum_{i=1}^{m} y^{(i)} \\log h\\left(x^{(i)}\\right)+\\left(1-y^{(i)}\\right) \\log \\left(1-h\\left(x^{(i)}\\right)\\right)\n",
    "\\end{aligned}\n",
    "$$\n",
    "\n",
    "求梯度：\n",
    "\n",
    "$$ \\frac{\\partial\\ell(\\theta)}{\\partial\\theta_j} =-\\frac{1}{m}\\sum_{i=1}^m(y^{(i)}h_\\theta(x^{(i)}))x_j^{(i)}$$\n",
    "\n",
    "梯度更新：\n",
    "\n",
    "$$ \\theta_j := \\theta_j - \\alpha\\sum_{i=1}^m(h_\\theta(x^{(i)}-y^{(i)}))x_j^{(i)}   $$\n",
    "\n",
    "### 4.1.1.1 API\n",
    "**sklearn.linear_model.LogisticRegression**\n",
    "\n",
    "#### 4.1.1.1.1 属性\n",
    "sklearn.linear_model.LogisticRegression(penalty='l2',dual=False, tol=0.0001, C=1.0, fit_intercept=True, intercept_scaling=1, class_weight=None, random_state=None, solver='liblinear', max_iter=100, multi_class='ovr', verbose=0, warm_start=False, n_jobs=1)\n",
    "\n",
    "- penalty='l2' : 字符串‘l1’或‘l2’,默认‘l2’。用来指定惩罚的基准（正则化参数）。只有‘l2’支持‘newton-cg’、‘sag’和‘lbfgs’这三种算法。\n",
    "如果选择‘l2’，solver参数可以选择‘liblinear’、‘newton-cg’、‘sag’和‘lbfgs’这四种算法；如果选择‘l1’的话就只能用‘liblinear’算法。\n",
    "\n",
    "- dual=False : 对偶或者原始方法。Dual只适用于正则化相为l2的‘liblinear’的情况，通常样本数大于特征数的情况下，默认为False。\n",
    "- C=1.0 : C为正则化系数$\\lambda$的倒数，必须为正数，默认为1。和SVM中的C一样，值越小，代表正则化越强。\n",
    "- fit_intercept=True : 是否存在截距，默认存在。\n",
    "- intercept_scaling=1 : 仅在正则化项为‘liblinear’，且fit_intercept设置为True时有用。\n",
    "- solver='liblinear' : solver参数决定了我们对逻辑回归损失函数的优化方法，有四种算法可以选择。\n",
    "  - a) liblinear：使用了开源的liblinear库实现，内部使用了坐标轴下降法来迭代优化损失函数。\n",
    "  - b) lbfgs：拟牛顿法的一种，利用损失函数二阶导数矩阵即海森矩阵来迭代优化损失函数。\n",
    "  - c) newton-cg：也是牛顿法家族的一种，利用损失函数二阶导数矩阵即海森矩阵来迭代优化损失函数。\n",
    "  - d) sag：即随机平均梯度下降，是梯度下降法的变种，和普通梯度下降法的区别是每次迭代仅仅用一部分的样本来计算梯度，适合于样本数据多的时候。\n",
    "\n",
    "从上面的描述可以看出，newton-cg、lbfgs 和 sag 这三种优化算法时都需要损失函数的一阶或者二阶连续导数，因此不能用于没有连续导数的 L1 正则化，只能用于L2 正则化。而 liblinear 可以用 L1正则化和L2正则化。\n",
    "\n",
    "同时，sag 每次仅仅使用了部分样本进行梯度迭代，所以当样本量少的时候不要选择它，而如果样本量非常大，比如大于 10 万，sag 是第一选择。但是 sag 不能用于L1 正则化，所以当你有大量的样本，又需要 L1 正则化的话就要自己做取舍了。要么通过对样本采样来降低样本量，要么回到 L2 正则化。\n",
    "\n",
    "对于多元逻辑回归常见的有 one-vs-rest(OvR) 和 many-vs-many(MvM) 两种。而 MvM 一般比 OvR分 类相对准确一些。liblinear 只支持 OvR ，不支持 MvM ，这样如果我们需要相对精确的多元逻辑回归时，就不能选择 liblinear了。也意味着如果我们需要相对精确的多元逻辑回归不能使用 L1 正则化了。\n",
    "\n",
    "**总结：**\n",
    "\n",
    "|正则化|算法|适用场景|\n",
    "|----|----|----|\n",
    "|L1\t|liblinear|\tliblinear适用于小数据集；如果选择L2正则化发现还是过拟合，即预测效果差的时候，就可以考虑L1正则化；如果模型的特征非常多，希望一些不重要的特征系数归零，从而让模型系数稀疏化的话，也可以使用L1正则化。|\n",
    "|L2\t|liblinear|\tlibniear只支持多元逻辑回归的OvR，不支持MvM，但MVM相对精确。|\n",
    "|L2\t|lbfgs/newton-cg/sag|\t较大数据集，支持one-vs-rest(OvR)和many-vs-many(MvM)两种多元逻辑回归。|\n",
    "|L2\t|sag|\t如果样本量非常大，比如大于10万，sag是第一选择；但不能用于L1正则化。|\n",
    "\n",
    "- multi_class='ovr' : 分类方式，有两种：ovr 即 one-vs-rest(OvR)，multinomial 是 many-vs-many(MvM)。如果是二元逻辑回归，ovr 和 multinomial 并没有任何区别，区别主要在多元逻辑回归上。ovr 不论是几元回归，都当成二元回归来处理。mvm 从从多个类中每次选两个类进行二元回归。如果总共有T类，需要T(T-1)/2次分类。\n",
    "OvR 相对简单，但分类效果相对略差（大多数样本分布情况）； MvM 分类相对精确，但是分类速度没有 OvR 快。如果选择了ovr，则4种损失函数的优化方法liblinear,newton-cg,lbfgs,sag 都可以选择。但是如果选择了 multinomial,则只能选择 newton-cg, lbfgs, sag。\n",
    "- class_weight=None : 类型权重参数。用于标示分类模型中各种类型的权重。默认不输入，即所有的分类的权重一样。选择‘balanced’自动根据y值计算类型权重。自己设置权重，格式：{class_label: weight}。例如0,1分类的二元模型，设置class_weight={0:0.9, 1:0.1}，这样类型0的权重为90%，而类型1的权重为10%。\n",
    "- random_state=None : 随机数种子，默认为无。仅在正则化优化算法为 sag,liblinear 时有用。\n",
    "- max_iter=100 : 算法收敛的最大迭代次数。\n",
    "- tol=0.0001 : 迭代终止判据的误差范围。\n",
    "- verbose=0 : 日志冗长度 int：冗长度；0：不输出训练过程；1：偶尔输出； >1：对每个子模型都输出\n",
    "- warm_start=False : 是否热启动，如果是，则下一次训练是以追加树的形式进行（重新使用上一次的调用作为初始化）。布尔型，默认False。\n",
    "- n_jobs=1 : 并行数，int：个数；-1：跟CPU核数一致；1:默认值。\n",
    "\n",
    "#### 4.1.1.1.2 方法\n",
    "- fit(X, y, sample_weight=None)：\n",
    "拟合模型，用来训练LR分类器，其中X是训练样本，y是对应的标记向量\n",
    "返回对象，self。\n",
    "- fit_transform(X, y=None, **fit_params)：\n",
    "fit与transform的结合，先fit后transform。返回X_new:numpy矩阵。\n",
    "- predict(X)：\n",
    "用来预测样本，也就是分类，X是测试集。返回array。\n",
    "- predict_proba(X)：\n",
    "输出分类概率。返回每种类别的概率，按照分类类别顺序给出。如果是多分类问题，multi_class=\"multinomial\"，则会给出样本对于每种类别的概率。\n",
    "返回array-like。\n",
    "- score(X, y, sample_weight=None)：\n",
    "返回给定测试集合的平均准确率（mean accuracy），浮点型数值。\n",
    "对于多个分类返回，则返回每个类别的准确率组成的哈希矩阵。\n"
   ]
  },
  {
   "cell_type": "code",
   "execution_count": 1,
   "metadata": {},
   "outputs": [
    {
     "name": "stderr",
     "output_type": "stream",
     "text": [
      "In C:\\Users\\xingc\\anaconda3\\lib\\site-packages\\matplotlib\\mpl-data\\stylelib\\_classic_test.mplstyle: \n",
      "The text.latex.preview rcparam was deprecated in Matplotlib 3.3 and will be removed two minor releases later.\n",
      "In C:\\Users\\xingc\\anaconda3\\lib\\site-packages\\matplotlib\\mpl-data\\stylelib\\_classic_test.mplstyle: \n",
      "The mathtext.fallback_to_cm rcparam was deprecated in Matplotlib 3.3 and will be removed two minor releases later.\n",
      "In C:\\Users\\xingc\\anaconda3\\lib\\site-packages\\matplotlib\\mpl-data\\stylelib\\_classic_test.mplstyle: Support for setting the 'mathtext.fallback_to_cm' rcParam is deprecated since 3.3 and will be removed two minor releases later; use 'mathtext.fallback : 'cm' instead.\n",
      "In C:\\Users\\xingc\\anaconda3\\lib\\site-packages\\matplotlib\\mpl-data\\stylelib\\_classic_test.mplstyle: \n",
      "The validate_bool_maybe_none function was deprecated in Matplotlib 3.3 and will be removed two minor releases later.\n",
      "In C:\\Users\\xingc\\anaconda3\\lib\\site-packages\\matplotlib\\mpl-data\\stylelib\\_classic_test.mplstyle: \n",
      "The savefig.jpeg_quality rcparam was deprecated in Matplotlib 3.3 and will be removed two minor releases later.\n",
      "In C:\\Users\\xingc\\anaconda3\\lib\\site-packages\\matplotlib\\mpl-data\\stylelib\\_classic_test.mplstyle: \n",
      "The keymap.all_axes rcparam was deprecated in Matplotlib 3.3 and will be removed two minor releases later.\n",
      "In C:\\Users\\xingc\\anaconda3\\lib\\site-packages\\matplotlib\\mpl-data\\stylelib\\_classic_test.mplstyle: \n",
      "The animation.avconv_path rcparam was deprecated in Matplotlib 3.3 and will be removed two minor releases later.\n",
      "In C:\\Users\\xingc\\anaconda3\\lib\\site-packages\\matplotlib\\mpl-data\\stylelib\\_classic_test.mplstyle: \n",
      "The animation.avconv_args rcparam was deprecated in Matplotlib 3.3 and will be removed two minor releases later.\n"
     ]
    },
    {
     "data": {
      "text/plain": [
       "0.825"
      ]
     },
     "execution_count": 1,
     "metadata": {},
     "output_type": "execute_result"
    }
   ],
   "source": [
    "import pandas as pd\n",
    "import numpy as np\n",
    "import matplotlib.pyplot as plt\n",
    "from sklearn.model_selection import train_test_split\n",
    "from sklearn.linear_model import LogisticRegression\n",
    "from sklearn import datasets\n",
    "\n",
    "iris = datasets.load_iris()\n",
    "\n",
    "X = iris.data[:, :2]  # 选择前2个特征\n",
    "Y = iris.target\n",
    "x_train, x_test, y_train, y_test = train_test_split(X, Y, test_size=0.2)\n",
    "# OVR方式的默认调用\n",
    "lr = LogisticRegression(C=1e5)\n",
    "\n",
    "# 训练\n",
    "lr.fit(x_train, y_train)\n",
    "lr.score(x_train, y_train)"
   ]
  },
  {
   "cell_type": "code",
   "execution_count": 2,
   "metadata": {},
   "outputs": [
    {
     "data": {
      "text/plain": [
       "0.8333333333333334"
      ]
     },
     "execution_count": 2,
     "metadata": {},
     "output_type": "execute_result"
    }
   ],
   "source": [
    "# 测试\n",
    "y_preict = lr.predict(x_test)\n",
    "acc =  lr.score(x_test, y_test)\n",
    "acc"
   ]
  },
  {
   "cell_type": "code",
   "execution_count": 3,
   "metadata": {},
   "outputs": [
    {
     "data": {
      "text/plain": [
       "(array([[-36.50036081,  30.78933832],\n",
       "        [ 17.3540191 , -15.67705382],\n",
       "        [ 19.14634171, -15.1122845 ]]),\n",
       " array([ 98.78238599, -43.01907136, -55.76331462]),\n",
       " array([1, 0, 2, 1, 2, 1, 0, 1, 2, 1, 2, 0, 0, 1, 1, 2, 0, 1, 1, 0, 0, 0,\n",
       "        2, 1, 2, 2, 1, 2, 0, 2, 2, 1, 0, 0, 0, 0, 0, 1, 2, 0, 2, 2, 2, 2,\n",
       "        2, 2, 0, 1, 1, 0, 1, 0, 0, 2, 0, 2, 2, 2, 1, 2, 2, 0, 2, 0, 0, 2,\n",
       "        0, 2, 0, 2, 1, 1, 0, 2, 1, 0, 1, 2, 0, 0, 1, 2, 2, 1, 2, 0, 1, 2,\n",
       "        2, 1, 0, 1, 2, 1, 0, 2, 1, 1, 1, 1, 2, 0, 2, 2, 0, 2, 1, 0, 0, 0,\n",
       "        1, 1, 0, 1, 0, 0, 1, 0, 2, 1]))"
      ]
     },
     "execution_count": 3,
     "metadata": {},
     "output_type": "execute_result"
    }
   ],
   "source": [
    "lr.coef_, lr.intercept_, y_train"
   ]
  },
  {
   "cell_type": "code",
   "execution_count": 4,
   "metadata": {},
   "outputs": [],
   "source": [
    "def plot_decision_boundary(model, X):\n",
    "    x_min, x_max = X[0, :].min() - 1, X[0, :].max() + 2\n",
    "    y_min, y_max = X[1, :].min() - 1, X[1, :].max() + 2\n",
    "    h = 0.01\n",
    "    xx, yy = np.meshgrid(np.arange(x_min, x_max, h), np.arange(y_min, y_max, h))\n",
    "    \n",
    "    x_new = np.c_[xx.ravel(), yy.ravel()]\n",
    "    y_pre = model.predict(x_new)\n",
    "    zz = y_pre.reshape(xx.shape)\n",
    "    from matplotlib.colors import ListedColormap\n",
    "    cus=ListedColormap([\"#EF9A9A\",\"#FFF59D\",\"#90CAF9\"])\n",
    "    plt.contourf(xx, yy, zz, cmap=cus)\n",
    "    "
   ]
  },
  {
   "cell_type": "code",
   "execution_count": 5,
   "metadata": {},
   "outputs": [
    {
     "data": {
      "image/png": "[encoded data removed]",
      "text/plain": [
       "<Figure size 432x288 with 1 Axes>"
      ]
     },
     "metadata": {
      "needs_background": "light"
     },
     "output_type": "display_data"
    }
   ],
   "source": [
    "plot_decision_boundary(lr, x_train)\n",
    "plt.scatter(x_train[y_train==0,0],x_train[y_train==0,1],color=\"r\")\n",
    "plt.scatter(x_train[y_train==1,0],x_train[y_train==1,1],color=\"g\")\n",
    "plt.scatter(x_train[y_train==2,0],x_train[y_train==2,1],color=\"b\")\n",
    "plt.show()"
   ]
  },
  {
   "cell_type": "code",
   "execution_count": 6,
   "metadata": {},
   "outputs": [
    {
     "name": "stdout",
     "output_type": "stream",
     "text": [
      "0.8333333333333334\n"
     ]
    },
    {
     "data": {
      "image/png": "[encoded data removed]",
      "text/plain": [
       "<Figure size 432x288 with 1 Axes>"
      ]
     },
     "metadata": {
      "needs_background": "light"
     },
     "output_type": "display_data"
    }
   ],
   "source": [
    "# OVO的方式调用\n",
    "lr1=LogisticRegression(multi_class=\"multinomial\",solver=\"newton-cg\", C=1e5)\n",
    "lr1.fit(x_train,y_train)\n",
    "print(lr1.score(x_test,y_test))\n",
    "plot_decision_boundary(lr1,x_train)\n",
    "plt.scatter(x_train[y_train==0,0],x_train[y_train==0,1],color=\"r\")\n",
    "plt.scatter(x_train[y_train==1,0],x_train[y_train==1,1],color=\"g\")\n",
    "plt.scatter(x_train[y_train==2,0],x_train[y_train==2,1],color=\"b\")\n",
    "plt.show()"
   ]
  },
  {
   "cell_type": "code",
   "execution_count": 7,
   "metadata": {},
   "outputs": [
    {
     "data": {
      "text/plain": [
       "0.8333333333333334"
      ]
     },
     "execution_count": 7,
     "metadata": {},
     "output_type": "execute_result"
    }
   ],
   "source": [
    "y_preict = lr1.predict(x_test)\n",
    "acc =  lr1.score(x_test, y_test)\n",
    "acc"
   ]
  },
  {
   "cell_type": "code",
   "execution_count": null,
   "metadata": {},
   "outputs": [],
   "source": []
  },
  {
   "cell_type": "code",
   "execution_count": null,
   "metadata": {},
   "outputs": [],
   "source": []
  },
  {
   "cell_type": "markdown",
   "metadata": {},
   "source": [
    "\n",
    "## 4.1.2 决策树\n",
    "决策树（Decision Tree）是一种非参数的有监督学习方法，它能够从一系列有特征和标签的数据中总结出决策规则，并用树状图的结构来呈现这些规则，以解决分类和回归问题。\n",
    "决策树比较适合分析离散数据，如果是连续数据要先转成离散数据再做分析。\n",
    "\n"
   ]
  },
  {
   "cell_type": "markdown",
   "metadata": {},
   "source": [
    "### 4.1.2.1 API\n",
    "```python\n",
    "sklearn.tree.DecisionTreeClassifier(\n",
    "    *, \n",
    "    criterion='gini',  # \"gini\"或者\"entropy\"，前者代表基尼系数，后者代表信息增益。\n",
    "    splitter='best',  # splitte：特征划分标准，'best' or 'random' (default='best') ，前者在特征的所有划分点中找出最优的划分点。后者是随机的在部分划分点中找局部最优的划分点。 默认的'best'适合样本量不大的时候，如果样本数据量非常大，此时推荐 random 。\n",
    "    max_depth=None,  # 用于控制决策树的最大深度 maximum_depth，一般来说，数据少或者特征少的时候可以不管这个值。如果样本量多，特征也多的情况下，推荐限制这个最大深度。常用的可以取值10-100之间。常用来解决过拟合\n",
    "    min_samples_split=2,  # 一个节点在被分割前必须拥有的最小样本数\n",
    "    min_samples_leaf=1,  # 叶子节点必须拥有的最小样本数\n",
    "    min_weight_fraction_leaf=0.0,  # 叶子节点必须拥有的最小样本数与总样本数之比\n",
    "    max_features=None,  # 用于每个节点进行分割的最大特征数\n",
    "    random_state=None, \n",
    "    max_leaf_nodes=None,  # 叶子节点必须拥有的最大样本数\n",
    "    min_impurity_decrease=0.0, \n",
    "    min_impurity_split=None, \n",
    "    class_weight=None, \n",
    "    ccp_alpha=0.0\n",
    ")\n",
    "```\n",
    "更多内容参考：https://blog.csdn.net/qq_30815237/article/details/89218316"
   ]
  },
  {
   "cell_type": "code",
   "execution_count": 8,
   "metadata": {},
   "outputs": [],
   "source": [
    "import numpy as np\n",
    "from sklearn.datasets import load_iris\n",
    "from sklearn.tree import DecisionTreeClassifier\n",
    "\n",
    "iris = load_iris()  # 加载数据"
   ]
  },
  {
   "cell_type": "code",
   "execution_count": 9,
   "metadata": {},
   "outputs": [
    {
     "data": {
      "text/plain": [
       "DecisionTreeClassifier(max_depth=2)"
      ]
     },
     "execution_count": 9,
     "metadata": {},
     "output_type": "execute_result"
    }
   ],
   "source": [
    "x = iris.data[:, 2:]  # 选择最后两列特征作为训练样本\n",
    "y = iris.target  # 获取训练集的标签\n",
    "\n",
    "decision_tree_classifier = DecisionTreeClassifier(max_depth=2)\n",
    "decision_tree_classifier.fit(x, y)"
   ]
  },
  {
   "cell_type": "code",
   "execution_count": 10,
   "metadata": {},
   "outputs": [
    {
     "data": {
      "image/svg+xml": [
       "<?xml version=\"1.0\" encoding=\"UTF-8\" standalone=\"no\"?>\r\n",
       "<!DOCTYPE svg PUBLIC \"-//W3C//DTD SVG 1.1//EN\"\r\n",
       " \"http://www.w3.org/Graphics/SVG/1.1/DTD/svg11.dtd\">\r\n",
       "<!-- Generated by graphviz version 2.44.1 (20200629.0800)\r\n",
       " -->\r\n",
       "<!-- Title: Tree Pages: 1 -->\r\n",
       "<svg width=\"363pt\" height=\"314pt\"\r\n",
       " viewBox=\"0.00 0.00 363.00 314.00\" xmlns=\"http://www.w3.org/2000/svg\" xmlns:xlink=\"http://www.w3.org/1999/xlink\">\r\n",
       "<g id=\"graph0\" class=\"graph\" transform=\"scale(1 1) rotate(0) translate(4 310)\">\r\n",
       "<title>Tree</title>\r\n",
       "<polygon fill=\"white\" stroke=\"transparent\" points=\"-4,4 -4,-310 359,-310 359,4 -4,4\"/>\r\n",
       "<!-- 0 -->\r\n",
       "<g id=\"node1\" class=\"node\">\r\n",
       "<title>0</title>\r\n",
       "<path fill=\"#ffffff\" stroke=\"black\" d=\"M209.5,-306C209.5,-306 73.5,-306 73.5,-306 67.5,-306 61.5,-300 61.5,-294 61.5,-294 61.5,-235 61.5,-235 61.5,-229 67.5,-223 73.5,-223 73.5,-223 209.5,-223 209.5,-223 215.5,-223 221.5,-229 221.5,-235 221.5,-235 221.5,-294 221.5,-294 221.5,-300 215.5,-306 209.5,-306\"/>\r\n",
       "<text text-anchor=\"middle\" x=\"141.5\" y=\"-290.8\" font-family=\"Helvetica,sans-Serif\" font-size=\"14.00\">petal width (cm) &lt;= 0.8</text>\r\n",
       "<text text-anchor=\"middle\" x=\"141.5\" y=\"-275.8\" font-family=\"Helvetica,sans-Serif\" font-size=\"14.00\">gini = 0.667</text>\r\n",
       "<text text-anchor=\"middle\" x=\"141.5\" y=\"-260.8\" font-family=\"Helvetica,sans-Serif\" font-size=\"14.00\">samples = 150</text>\r\n",
       "<text text-anchor=\"middle\" x=\"141.5\" y=\"-245.8\" font-family=\"Helvetica,sans-Serif\" font-size=\"14.00\">value = [50, 50, 50]</text>\r\n",
       "<text text-anchor=\"middle\" x=\"141.5\" y=\"-230.8\" font-family=\"Helvetica,sans-Serif\" font-size=\"14.00\">class = setosa</text>\r\n",
       "</g>\r\n",
       "<!-- 1 -->\r\n",
       "<g id=\"node2\" class=\"node\">\r\n",
       "<title>1</title>\r\n",
       "<path fill=\"#e58139\" stroke=\"black\" d=\"M109,-179.5C109,-179.5 12,-179.5 12,-179.5 6,-179.5 0,-173.5 0,-167.5 0,-167.5 0,-123.5 0,-123.5 0,-117.5 6,-111.5 12,-111.5 12,-111.5 109,-111.5 109,-111.5 115,-111.5 121,-117.5 121,-123.5 121,-123.5 121,-167.5 121,-167.5 121,-173.5 115,-179.5 109,-179.5\"/>\r\n",
       "<text text-anchor=\"middle\" x=\"60.5\" y=\"-164.3\" font-family=\"Helvetica,sans-Serif\" font-size=\"14.00\">gini = 0.0</text>\r\n",
       "<text text-anchor=\"middle\" x=\"60.5\" y=\"-149.3\" font-family=\"Helvetica,sans-Serif\" font-size=\"14.00\">samples = 50</text>\r\n",
       "<text text-anchor=\"middle\" x=\"60.5\" y=\"-134.3\" font-family=\"Helvetica,sans-Serif\" font-size=\"14.00\">value = [50, 0, 0]</text>\r\n",
       "<text text-anchor=\"middle\" x=\"60.5\" y=\"-119.3\" font-family=\"Helvetica,sans-Serif\" font-size=\"14.00\">class = setosa</text>\r\n",
       "</g>\r\n",
       "<!-- 0&#45;&gt;1 -->\r\n",
       "<g id=\"edge1\" class=\"edge\">\r\n",
       "<title>0&#45;&gt;1</title>\r\n",
       "<path fill=\"none\" stroke=\"black\" d=\"M113.4,-222.91C105.61,-211.65 97.14,-199.42 89.3,-188.11\"/>\r\n",
       "<polygon fill=\"black\" stroke=\"black\" points=\"92.03,-185.9 83.46,-179.67 86.28,-189.88 92.03,-185.9\"/>\r\n",
       "<text text-anchor=\"middle\" x=\"78.99\" y=\"-200.56\" font-family=\"Helvetica,sans-Serif\" font-size=\"14.00\">True</text>\r\n",
       "</g>\r\n",
       "<!-- 2 -->\r\n",
       "<g id=\"node3\" class=\"node\">\r\n",
       "<title>2</title>\r\n",
       "<path fill=\"#ffffff\" stroke=\"black\" d=\"M295.5,-187C295.5,-187 151.5,-187 151.5,-187 145.5,-187 139.5,-181 139.5,-175 139.5,-175 139.5,-116 139.5,-116 139.5,-110 145.5,-104 151.5,-104 151.5,-104 295.5,-104 295.5,-104 301.5,-104 307.5,-110 307.5,-116 307.5,-116 307.5,-175 307.5,-175 307.5,-181 301.5,-187 295.5,-187\"/>\r\n",
       "<text text-anchor=\"middle\" x=\"223.5\" y=\"-171.8\" font-family=\"Helvetica,sans-Serif\" font-size=\"14.00\">petal width (cm) &lt;= 1.75</text>\r\n",
       "<text text-anchor=\"middle\" x=\"223.5\" y=\"-156.8\" font-family=\"Helvetica,sans-Serif\" font-size=\"14.00\">gini = 0.5</text>\r\n",
       "<text text-anchor=\"middle\" x=\"223.5\" y=\"-141.8\" font-family=\"Helvetica,sans-Serif\" font-size=\"14.00\">samples = 100</text>\r\n",
       "<text text-anchor=\"middle\" x=\"223.5\" y=\"-126.8\" font-family=\"Helvetica,sans-Serif\" font-size=\"14.00\">value = [0, 50, 50]</text>\r\n",
       "<text text-anchor=\"middle\" x=\"223.5\" y=\"-111.8\" font-family=\"Helvetica,sans-Serif\" font-size=\"14.00\">class = versicolor</text>\r\n",
       "</g>\r\n",
       "<!-- 0&#45;&gt;2 -->\r\n",
       "<g id=\"edge2\" class=\"edge\">\r\n",
       "<title>0&#45;&gt;2</title>\r\n",
       "<path fill=\"none\" stroke=\"black\" d=\"M169.95,-222.91C176.18,-214.01 182.84,-204.51 189.28,-195.33\"/>\r\n",
       "<polygon fill=\"black\" stroke=\"black\" points=\"192.23,-197.22 195.1,-187.02 186.5,-193.2 192.23,-197.22\"/>\r\n",
       "<text text-anchor=\"middle\" x=\"199.43\" y=\"-207.94\" font-family=\"Helvetica,sans-Serif\" font-size=\"14.00\">False</text>\r\n",
       "</g>\r\n",
       "<!-- 3 -->\r\n",
       "<g id=\"node4\" class=\"node\">\r\n",
       "<title>3</title>\r\n",
       "<path fill=\"#4de88e\" stroke=\"black\" d=\"M204,-68C204,-68 101,-68 101,-68 95,-68 89,-62 89,-56 89,-56 89,-12 89,-12 89,-6 95,0 101,0 101,0 204,0 204,0 210,0 216,-6 216,-12 216,-12 216,-56 216,-56 216,-62 210,-68 204,-68\"/>\r\n",
       "<text text-anchor=\"middle\" x=\"152.5\" y=\"-52.8\" font-family=\"Helvetica,sans-Serif\" font-size=\"14.00\">gini = 0.168</text>\r\n",
       "<text text-anchor=\"middle\" x=\"152.5\" y=\"-37.8\" font-family=\"Helvetica,sans-Serif\" font-size=\"14.00\">samples = 54</text>\r\n",
       "<text text-anchor=\"middle\" x=\"152.5\" y=\"-22.8\" font-family=\"Helvetica,sans-Serif\" font-size=\"14.00\">value = [0, 49, 5]</text>\r\n",
       "<text text-anchor=\"middle\" x=\"152.5\" y=\"-7.8\" font-family=\"Helvetica,sans-Serif\" font-size=\"14.00\">class = versicolor</text>\r\n",
       "</g>\r\n",
       "<!-- 2&#45;&gt;3 -->\r\n",
       "<g id=\"edge3\" class=\"edge\">\r\n",
       "<title>2&#45;&gt;3</title>\r\n",
       "<path fill=\"none\" stroke=\"black\" d=\"M197.06,-103.73C191.38,-94.97 185.38,-85.7 179.67,-76.91\"/>\r\n",
       "<polygon fill=\"black\" stroke=\"black\" points=\"182.47,-74.79 174.09,-68.3 176.6,-78.59 182.47,-74.79\"/>\r\n",
       "</g>\r\n",
       "<!-- 4 -->\r\n",
       "<g id=\"node5\" class=\"node\">\r\n",
       "<title>4</title>\r\n",
       "<path fill=\"#843de6\" stroke=\"black\" d=\"M343,-68C343,-68 246,-68 246,-68 240,-68 234,-62 234,-56 234,-56 234,-12 234,-12 234,-6 240,0 246,0 246,0 343,0 343,0 349,0 355,-6 355,-12 355,-12 355,-56 355,-56 355,-62 349,-68 343,-68\"/>\r\n",
       "<text text-anchor=\"middle\" x=\"294.5\" y=\"-52.8\" font-family=\"Helvetica,sans-Serif\" font-size=\"14.00\">gini = 0.043</text>\r\n",
       "<text text-anchor=\"middle\" x=\"294.5\" y=\"-37.8\" font-family=\"Helvetica,sans-Serif\" font-size=\"14.00\">samples = 46</text>\r\n",
       "<text text-anchor=\"middle\" x=\"294.5\" y=\"-22.8\" font-family=\"Helvetica,sans-Serif\" font-size=\"14.00\">value = [0, 1, 45]</text>\r\n",
       "<text text-anchor=\"middle\" x=\"294.5\" y=\"-7.8\" font-family=\"Helvetica,sans-Serif\" font-size=\"14.00\">class = virginica</text>\r\n",
       "</g>\r\n",
       "<!-- 2&#45;&gt;4 -->\r\n",
       "<g id=\"edge4\" class=\"edge\">\r\n",
       "<title>2&#45;&gt;4</title>\r\n",
       "<path fill=\"none\" stroke=\"black\" d=\"M249.94,-103.73C255.62,-94.97 261.62,-85.7 267.33,-76.91\"/>\r\n",
       "<polygon fill=\"black\" stroke=\"black\" points=\"270.4,-78.59 272.91,-68.3 264.53,-74.79 270.4,-78.59\"/>\r\n",
       "</g>\r\n",
       "</g>\r\n",
       "</svg>\r\n"
      ],
      "text/plain": [
       "<graphviz.files.Source at 0x22e343d86c8>"
      ]
     },
     "execution_count": 10,
     "metadata": {},
     "output_type": "execute_result"
    }
   ],
   "source": [
    "from graphviz import Source\n",
    "from sklearn.tree import export_graphviz\n",
    "\n",
    "export_graphviz(\n",
    "    decision_tree_classifier,\n",
    "    out_file='iris_tree.dot',\n",
    "    feature_names = iris.feature_names[2:],\n",
    "    class_names=iris.target_names,\n",
    "    rounded=True,\n",
    "    filled=True\n",
    "    \n",
    ")\n",
    "\n",
    "Source.from_file('iris_tree.dot')"
   ]
  },
  {
   "cell_type": "code",
   "execution_count": 11,
   "metadata": {
    "scrolled": true
   },
   "outputs": [
    {
     "data": {
      "image/png": "[encoded data removed]",
      "text/plain": [
       "<Figure size 576x288 with 1 Axes>"
      ]
     },
     "metadata": {
      "needs_background": "light"
     },
     "output_type": "display_data"
    }
   ],
   "source": [
    "# 绘制决策边界\n",
    "\n",
    "import matplotlib.pyplot as plt\n",
    "from matplotlib.colors import ListedColormap\n",
    "\n",
    "def plot_decision_boundary(classifier, x, y, axs=[0, 7.5, 0, 3]):\n",
    "    # 1. 画出网格\n",
    "    xx1 = np.linspace(axs[0], axs[1], 100)\n",
    "    xx2 = np.linspace(axs[2], axs[3], 100)\n",
    "    x1, x2 = np.meshgrid(xx1, xx2)\n",
    "    x_new = np.array([x1.ravel(), x1.ravel()]).T\n",
    "    # 2. 算出网格中各个点的预测结果(x1.shape=(100, 100))\n",
    "    y_predict = classifier.predict(x_new).reshape(x1.shape)\n",
    "    # 3. 为不同的类分配不同的颜色\n",
    "    colors = ['red', 'blue', 'green', 'gray', 'cyan']\n",
    "    cmap = ListedColormap(colors[:len(np.unique(y))])\n",
    "    plt.contourf(x1, x2, y_predict, alpha=0.5, cmap=cmap)\n",
    "    # 4. 画出训练样本，需要将 draw_train 指定为 True\n",
    "    plt.plot(x[:,0][y==0], x[:,1][y==0], 'ro', label='iris setosa')\n",
    "    plt.plot(x[:,0][y==1], x[:,1][y==1], 'bs', label='iris versicolor')\n",
    "    plt.plot(x[:,0][y==2], x[:,1][y==2], 'g^', label='iris virginica')\n",
    "    \n",
    "    # 给坐标添加标签    \n",
    "    plt.xlabel('Petal Length')\n",
    "    plt.ylabel('Petal Width')\n",
    "\n",
    "plt.figure(figsize=(8, 4))\n",
    "plot_decision_boundary(decision_tree_classifier, x, y)\n",
    "\n",
    "plt.text(1.40, 1.0, 'Depth=0', fontsize=15)\n",
    "plt.text(3.20, 1.80, 'Depth=1', fontsize=15)\n",
    "\n",
    "plt.show()"
   ]
  },
  {
   "cell_type": "code",
   "execution_count": 12,
   "metadata": {},
   "outputs": [
    {
     "data": {
      "image/png": "[encoded data removed]",
      "text/plain": [
       "<Figure size 576x288 with 1 Axes>"
      ]
     },
     "metadata": {
      "needs_background": "light"
     },
     "output_type": "display_data"
    }
   ],
   "source": [
    "# 模拟 max_depth = 3\n",
    "plt.figure(figsize=(8, 4))\n",
    "plot_decision_boundary(decision_tree_classifier, x, y)\n",
    "plt.plot([2.45, 2.45], [0, 3], 'k-', linewidth=2)\n",
    "plt.plot([2.45, 7.5], [1.75, 1.75], 'k--', linewidth=2)\n",
    "plt.plot([4.95, 4.95], [0, 1.75], 'k:', linewidth=2)\n",
    "plt.plot([4.85, 4.85], [1.75, 3], 'k:', linewidth=2)\n",
    "\n",
    "plt.text(4.05, 0.5, 'Depth=2', fontsize=15)\n",
    "\n",
    "\n",
    "plt.text(1.40, 1.0, 'Depth=0', fontsize=15)\n",
    "plt.text(3.20, 1.80, 'Depth=1', fontsize=15)\n",
    "\n",
    "plt.show()"
   ]
  },
  {
   "cell_type": "code",
   "execution_count": null,
   "metadata": {},
   "outputs": [],
   "source": []
  },
  {
   "cell_type": "code",
   "execution_count": null,
   "metadata": {},
   "outputs": [],
   "source": []
  },
  {
   "cell_type": "markdown",
   "metadata": {},
   "source": [
    "## 4.1.3 支持向量机\n",
    "\n"
   ]
  },
  {
   "cell_type": "markdown",
   "metadata": {},
   "source": [
    "## 4.1.4 朴素贝叶斯\n",
    "\n",
    "\n"
   ]
  },
  {
   "cell_type": "code",
   "execution_count": null,
   "metadata": {},
   "outputs": [],
   "source": []
  }
 ],
 "metadata": {
  "kernelspec": {
   "display_name": "Python 3",
   "language": "python",
   "name": "python3"
  },
  "language_info": {
   "codemirror_mode": {
    "name": "ipython",
    "version": 3
   },
   "file_extension": ".py",
   "mimetype": "text/x-python",
   "name": "python",
   "nbconvert_exporter": "python",
   "pygments_lexer": "ipython3",
   "version": "3.7.6"
  }
 },
 "nbformat": 4,
 "nbformat_minor": 4
}
